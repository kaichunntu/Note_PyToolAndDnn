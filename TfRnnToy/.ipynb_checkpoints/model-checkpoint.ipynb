{
 "cells": [
  {
   "cell_type": "code",
   "execution_count": 1,
   "metadata": {},
   "outputs": [],
   "source": [
    "import os\n",
    "import sys\n",
    "import time\n",
    "import pickle\n",
    "from collections import defaultdict\n",
    "\n",
    "import re\n",
    "import numpy as np\n",
    "\n",
    "import tensorflow as tf\n",
    "sess_opt = tf.ConfigProto(gpu_options = tf.GPUOptions(per_process_gpu_memory_fraction=0.95 , allow_growth=True)\n",
    "                         ,allow_soft_placement=True\n",
    "#                          ,log_device_placement=True\n",
    "                         ,device_count={'GPU': 1})\n",
    "\n",
    "data_root = \"data/cornell_movie-dialogs/\""
   ]
  },
  {
   "cell_type": "code",
   "execution_count": 2,
   "metadata": {},
   "outputs": [],
   "source": [
    "class MovieLine:\n",
    "    def __init__(self,p0,p1,dialog):\n",
    "        self.p0 = p0\n",
    "        self.p1 = p1\n",
    "        self.dia = None\n",
    "        self.__process(dialog)\n",
    "            \n",
    "    def __process(self,d):\n",
    "        d = re.sub(r'[\\\"\\'+-=$#\\^\\\\@*&><]' , '' , d)\n",
    "        for k in [ ',' , '.' , '?' , ';' , ':' ]:\n",
    "            d = re.sub(r'[{0}] '.format(k) , ' {0} '.format(k) , d)\n",
    "        self.dia = d.strip()"
   ]
  },
  {
   "cell_type": "code",
   "execution_count": 6,
   "metadata": {},
   "outputs": [],
   "source": [
    "class Tokenizer:\n",
    "    def __init__(self , data):\n",
    "        self.Word2Idx = {}\n",
    "        self.Idx2Word = ['<NULL>' , '<OOV>' , '<SOS>' , '<EOS>']\n",
    "        self.WordFreq = defaultdict(lambda:0)\n",
    "        self.count(data)\n",
    "        \n",
    "    def count(self , data):\n",
    "        for ss in data:\n",
    "            x = ss[0].split()\n",
    "            for s in x:\n",
    "                self.WordFreq[s] += 1\n",
    "            x = ss[1].split()\n",
    "            for s in x:\n",
    "                self.WordFreq[s] += 1\n",
    "        self.Idx2Word.extend(list(self.WordFreq.keys()))\n",
    "        self.Word2Idx = dict([(k,i) for i,k in enumerate(self.Idx2Word)])\n",
    "        print(\"Total Words :\" , len(self.Idx2Word))\n",
    "        counts = list(self.WordFreq.values())\n",
    "        for p in range(10,100,10):\n",
    "            print(\"PR {0:>3d} count : {1:>4.0f}\".format(p , np.percentile(counts,float(p))))\n",
    "    \n",
    "    def transform(self , data , min_count=5):\n",
    "        xIdxList = []\n",
    "        yIdxList = []\n",
    "        x_MaxLen = 0\n",
    "        y_MaxLen = 0\n",
    "        for ss in data:\n",
    "            x = ss[0].split()\n",
    "            tmp = []\n",
    "            for s in x:\n",
    "                if(self.WordFreq[s] < min_count):\n",
    "                    tmp.append(self.Word2Idx['<OOV>'])\n",
    "                else:\n",
    "                    tmp.append(self.Word2Idx[s])\n",
    "            tmp.append(self.Word2Idx['<EOS>'])\n",
    "            l = len(tmp)\n",
    "            if(l > x_MaxLen):\n",
    "                x_MaxLen = l\n",
    "            xIdxList.append(tmp)\n",
    "            \n",
    "            y = ss[1].split()\n",
    "            tmp = []\n",
    "            for s in y:\n",
    "                if(self.WordFreq[s] < min_count):\n",
    "                    tmp.append(self.Word2Idx['<OOV>'])\n",
    "                else:\n",
    "                    tmp.append(self.Word2Idx[s])\n",
    "            tmp.append(self.Word2Idx['<EOS>'])\n",
    "            l = len(tmp)\n",
    "            if(l > y_MaxLen):\n",
    "                y_MaxLen = l\n",
    "            yIdxList.append(tmp)\n",
    "        \n",
    "        return xIdxList , yIdxList , x_MaxLen , y_MaxLen\n",
    "    \n",
    "    def inverse(self,idxArr):\n",
    "        tmp = []\n",
    "        for i in idxArr:\n",
    "            tmp.append(self.Idx2Word[i])\n",
    "        return tmp"
   ]
  },
  {
   "cell_type": "code",
   "execution_count": 3,
   "metadata": {},
   "outputs": [
    {
     "name": "stdout",
     "output_type": "stream",
     "text": [
      "304000\r"
     ]
    }
   ],
   "source": [
    "def get_movie_line(root,MovieLineDict):\n",
    "    with open(os.path.join(root, \"movie_lines.txt\") , \"r\" , encoding=\"utf-8\" , errors='ignore') as f:\n",
    "        x = f.readline()\n",
    "        c = 0\n",
    "        while(x!=\"\"):\n",
    "            l = x.split(\" +++$+++ \")\n",
    "            c+=1\n",
    "            MovieLineDict[l[0]] = MovieLine(l[1],l[2],l[4])\n",
    "            x = f.readline()\n",
    "            if c%1000 == 0:\n",
    "                print(c,end=\"\\r\",flush=True)\n",
    "\n",
    "MovieLineDict = {}\n",
    "get_movie_line(data_root,MovieLineDict)"
   ]
  },
  {
   "cell_type": "code",
   "execution_count": 4,
   "metadata": {},
   "outputs": [
    {
     "name": "stdout",
     "output_type": "stream",
     "text": [
      "83000\r"
     ]
    }
   ],
   "source": [
    "def get_dialog(root,myList,LineDict):\n",
    "    with open(os.path.join(root, \"movie_conversations.txt\") , \"r\" , encoding='utf-8' )as f:\n",
    "        x = f.readline()\n",
    "        c = 0\n",
    "        while( x!=\"\" ):\n",
    "            l = x.split(\" +++$+++ \")\n",
    "            p0 = l[0]\n",
    "            p1 = l[1]\n",
    "            conversation = l[3].replace('[','').replace(']','').replace('\\'','')\n",
    "            conversation = conversation.strip().split(\", \")\n",
    "            if(len(conversation) <= 1):\n",
    "                continue\n",
    "            try:\n",
    "                c+=1\n",
    "                convList = [LineDict[k].dia for k in conversation]\n",
    "                all_conversation = zip(convList[0:-1],convList[1::])\n",
    "                myList.extend(all_conversation)\n",
    "                x = f.readline()\n",
    "            except KeyError:\n",
    "                x = f.readline()\n",
    "                continue\n",
    "            if( c%100 == 0 ):\n",
    "                print(c , end=\"\\r\")\n",
    "                \n",
    "dialogList = []\n",
    "get_dialog(data_root,dialogList,MovieLineDict)"
   ]
  },
  {
   "cell_type": "code",
   "execution_count": 7,
   "metadata": {},
   "outputs": [
    {
     "name": "stdout",
     "output_type": "stream",
     "text": [
      "Total Words : 98818\n",
      "PR  10 count :    1\n",
      "PR  20 count :    1\n",
      "PR  30 count :    1\n",
      "PR  40 count :    2\n",
      "PR  50 count :    2\n",
      "PR  60 count :    3\n",
      "PR  70 count :    4\n",
      "PR  80 count :    8\n",
      "PR  90 count :   20\n"
     ]
    }
   ],
   "source": [
    "myTok = Tokenizer(dialogList)"
   ]
  },
  {
   "cell_type": "markdown",
   "metadata": {},
   "source": [
    "### Build Seq2Seq Model"
   ]
  },
  {
   "cell_type": "code",
   "execution_count": null,
   "metadata": {},
   "outputs": [],
   "source": []
  }
 ],
 "metadata": {
  "kernelspec": {
   "display_name": "tf1.12",
   "language": "python",
   "name": "tf1.12"
  },
  "language_info": {
   "codemirror_mode": {
    "name": "ipython",
    "version": 3
   },
   "file_extension": ".py",
   "mimetype": "text/x-python",
   "name": "python",
   "nbconvert_exporter": "python",
   "pygments_lexer": "ipython3",
   "version": "3.6.4"
  }
 },
 "nbformat": 4,
 "nbformat_minor": 2
}
